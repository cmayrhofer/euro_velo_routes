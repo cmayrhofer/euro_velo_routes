{
 "cells": [
  {
   "cell_type": "code",
   "execution_count": 8,
   "metadata": {},
   "outputs": [
    {
     "name": "stdout",
     "output_type": "stream",
     "text": [
      "Overwriting ../README.md\n"
     ]
    }
   ],
   "source": [
    "%%writefile ../README.md\n",
    "# Fetch GPX-Tracks from EuroVelo-Website\n",
    "\n",
    "We obtain the data from:\n",
    "\n",
    "```text\n",
    "https://en.eurovelo.com/#\n",
    "```\n",
    "\n",
    "On the website the there is a `GET` method hidden, i.e. `https://en.eurovelo.com/route/get-gpx/<id>`. Unfortunately, so far I couldn't find a list with the IDs. Hence, in the following we took the brute force approach and tried IDs from 0 to N.\n",
    "\n",
    "\n",
    "Regarding the GPX data wrangling, we took inspiration from:\n",
    "\n",
    "* https://thatmaceguy.github.io/python/gps-data-analysis-intro/\n",
    "* https://towardsdatascience.com/data-science-for-cycling-how-to-read-gpx-strava-routes-with-python-e45714d5da23\n",
    "* https://towardsdatascience.com/visualizing-geospatial-data-in-python-e070374fe621\n",
    "* https://towardsdatascience.com/simple-gps-data-visualization-using-python-and-open-street-maps-50f992e9b676\n",
    "* https://towardsdatascience.com/geopandas-101-plot-any-data-with-a-latitude-and-longitude-on-a-map-98e01944b972\n",
    "\n",
    "(TODO) For the interaction with Garmin Connect:\n",
    "\n",
    "* https://github.com/matin/garth\n",
    "* https://github.com/cyberjunky/python-garminconnect\n",
    "* https://github.com/cpfair/tapiriik/blob/ee0153818981863e19750d59727d77363e5a37fe/tapiriik/services/GarminConnect/garminconnect.py#L548\n",
    "* https://medium.com/@rama_m/how-to-download-garmin-training-data-using-python-api-5e94488a2317\n",
    "* https://github.com/Pythe1337N/garmin-connect\n",
    "* https://github.com/abrander/garmin-connect\n",
    "* https://developer.garmin.com/gc-developer-program/activity-api/"
   ]
  },
  {
   "cell_type": "code",
   "execution_count": 9,
   "metadata": {},
   "outputs": [],
   "source": [
    "# ! pip install -r ../requirements.txt"
   ]
  },
  {
   "cell_type": "code",
   "execution_count": 10,
   "metadata": {},
   "outputs": [],
   "source": [
    "import httpx\n",
    "import gpxpy\n",
    "\n",
    "from pathlib import Path\n",
    "from tqdm import tqdm\n",
    "from pprint import pprint\n",
    "from itertools import compress\n",
    "\n",
    "from functools import lru_cache\n",
    "from gpxpy.gpx import GPX"
   ]
  },
  {
   "cell_type": "code",
   "execution_count": 11,
   "metadata": {},
   "outputs": [],
   "source": [
    "URL = \"https://en.eurovelo.com/route/get-gpx\"\n",
    "SAVE_FOLDER = Path(\"./../routes\").expanduser().resolve()\n",
    "MAX_RANGE_IDS = 1_000\n",
    "DEV = True"
   ]
  },
  {
   "cell_type": "code",
   "execution_count": 12,
   "metadata": {},
   "outputs": [],
   "source": [
    "@lru_cache\n",
    "def parse_gpx_data(xml: str) -> GPX:\n",
    "    return gpxpy.parse(xml)"
   ]
  },
  {
   "cell_type": "code",
   "execution_count": 5,
   "metadata": {},
   "outputs": [
    {
     "name": "stderr",
     "output_type": "stream",
     "text": [
      "  0%|          | 4/1000 [00:15<1:05:55,  3.97s/it]\n"
     ]
    },
    {
     "data": {
      "text/plain": [
       "2"
      ]
     },
     "execution_count": 5,
     "metadata": {},
     "output_type": "execute_result"
    }
   ],
   "source": [
    "unsuccessful_requests = []\n",
    "for i in tqdm(range(MAX_RANGE_IDS)):\n",
    "    if i > 3 and DEV:\n",
    "        break\n",
    "    _url = \"/\".join((URL, f\"{i:03d}\"))\n",
    "    _request = httpx.get(_url)\n",
    "    try:\n",
    "        _request.raise_for_status()\n",
    "    except Exception as ex:\n",
    "        unsuccessful_requests.append({\"url\": _url, \"stage\": \"request\", \"error\": ex})\n",
    "        continue\n",
    "    _content = _request.content.decode()\n",
    "    try:\n",
    "        gpx_data = parse_gpx_data(_content)\n",
    "    except Exception as ex:\n",
    "        unsuccessful_requests.append({\"url\": _url, \"stage\": \"gpx parsing\", \"error\": ex})\n",
    "        continue\n",
    "    (SAVE_FOLDER / f\"file_{i:03d}.gpx\").write_text(_content)\n",
    "len(unsuccessful_requests)"
   ]
  },
  {
   "cell_type": "code",
   "execution_count": 13,
   "metadata": {},
   "outputs": [
    {
     "name": "stdout",
     "output_type": "stream",
     "text": [
      "The following file contains tracks which is going through ('Berlin', 'Dresden'): /home/christoph/MachineLearningDeepLearning/euro_velo_routes/routes/file_146.gpx.\n",
      "The tracks withing the route which mention Berlin are:\n",
      "[('059: Hennigsdorf – Berlin (DEVELOPED)', 'DEVELOPED'),\n",
      " ('060: Berlin – Potsdam (DEVELOPED)', 'DEVELOPED')]\n",
      "The tracks withing the route which mention Dresden are:\n",
      "[('065: Riesa – Dresden (DEVELOPED)', 'DEVELOPED'),\n",
      " ('066: Dresden – Decin (DEVELOPED)', 'DEVELOPED')]\n",
      "=============================================================================\n",
      "The following file contains tracks which is going through ('Berlin', 'Dresden'): /home/christoph/MachineLearningDeepLearning/euro_velo_routes/routes/file_030.gpx.\n",
      "The tracks withing the route which mention Berlin are:\n",
      "[('059: Hennigsdorf – Berlin (DEVELOPED)', 'DEVELOPED'),\n",
      " ('060: Berlin – Potsdam (DEVELOPED)', 'DEVELOPED')]\n",
      "The tracks withing the route which mention Dresden are:\n",
      "[('065: Riesa – Dresden (DEVELOPED)', 'DEVELOPED'),\n",
      " ('066: Dresden – Decin (DEVELOPED)', 'DEVELOPED')]\n",
      "=============================================================================\n"
     ]
    }
   ],
   "source": [
    "# list all the routes which go through Berlin\n",
    "_CITIES = (\"Berlin\", \"Dresden\")\n",
    "for _file in SAVE_FOLDER.iterdir():\n",
    "    if _file.is_dir():\n",
    "        continue\n",
    "    gpx_data = parse_gpx_data(_file.read_text())\n",
    "    _track_name_containing_city = {\n",
    "        _city: [_city.lower() in _track.name.lower() for _track in gpx_data.tracks]\n",
    "        for _city in _CITIES\n",
    "    }\n",
    "    if all(\n",
    "        any(_track_name_contains_city)\n",
    "        for _track_name_contains_city in _track_name_containing_city.values()\n",
    "    ):\n",
    "        print(\n",
    "            f\"The following file contains tracks which is going through {_CITIES}: {_file}.\"\n",
    "        )\n",
    "        for _city, _track_name_filter in _track_name_containing_city.items():\n",
    "            print(f\"The tracks withing the route which mention {_city} are:\")\n",
    "            pprint(\n",
    "                [\n",
    "                    (_track.name, _track.description)\n",
    "                    for _track in compress(gpx_data.tracks, _track_name_filter)\n",
    "                ]\n",
    "            )\n",
    "        print(\"=\" * 77)"
   ]
  },
  {
   "cell_type": "code",
   "execution_count": 14,
   "metadata": {},
   "outputs": [
    {
     "name": "stderr",
     "output_type": "stream",
     "text": [
      "136it [00:03, 34.53it/s]\n"
     ]
    }
   ],
   "source": [
    "# Prepare GPX-tracks for imports to Garmin\n",
    "_prefix = \"EuroVelo7\"\n",
    "_filename = \"file_030.gpx\"  # \"file_146.gpx\"\n",
    "\n",
    "gpx_data = parse_gpx_data((_file_of_origin := SAVE_FOLDER / _filename).read_text())\n",
    "_folder_for_tracks = (\n",
    "    _file_of_origin.parent\n",
    "    / f\"tracks_from_{_file_of_origin.stem}_prepared_for_imports_to_garmin_connect\"\n",
    ")\n",
    "if not _folder_for_tracks.exists():\n",
    "    _folder_for_tracks.mkdir()\n",
    "_cloned_gpx_data = gpx_data.clone()\n",
    "for i, _track in tqdm(enumerate(gpx_data.tracks, start=1)):\n",
    "    _cloned_gpx_data.tracks.clear()\n",
    "    _cloned_gpx_data.tracks.append(_track.clone())\n",
    "    _cloned_gpx_data.tracks[-1].name = \" | \".join((_prefix, _track.name))\n",
    "    (_folder_for_tracks / f\"track_{i:03d}.gpx\").write_text(_cloned_gpx_data.to_xml())"
   ]
  },
  {
   "cell_type": "code",
   "execution_count": null,
   "metadata": {},
   "outputs": [],
   "source": []
  }
 ],
 "metadata": {
  "kernelspec": {
   "display_name": "venv",
   "language": "python",
   "name": "python3"
  },
  "language_info": {
   "codemirror_mode": {
    "name": "ipython",
    "version": 3
   },
   "file_extension": ".py",
   "mimetype": "text/x-python",
   "name": "python",
   "nbconvert_exporter": "python",
   "pygments_lexer": "ipython3",
   "version": "3.10.12"
  }
 },
 "nbformat": 4,
 "nbformat_minor": 2
}
